{
 "cells": [
  {
   "cell_type": "code",
   "execution_count": 1,
   "metadata": {},
   "outputs": [],
   "source": [
    "from promptflow.client import PFClient\n",
    "\n",
    "pf = PFClient()"
   ]
  },
  {
   "cell_type": "code",
   "execution_count": 2,
   "metadata": {},
   "outputs": [
    {
     "data": {
      "text/plain": [
       "True"
      ]
     },
     "execution_count": 2,
     "metadata": {},
     "output_type": "execute_result"
    }
   ],
   "source": [
    "from dotenv import load_dotenv\n",
    "load_dotenv(override=True)"
   ]
  },
  {
   "cell_type": "code",
   "execution_count": 4,
   "metadata": {},
   "outputs": [
    {
     "name": "stderr",
     "output_type": "stream",
     "text": [
      "[2024-04-17 14:30:02,610][promptflow._sdk._orchestrator.run_submitter][INFO] - Submitting run search_grounded_chat_variant_0_20240417_143002_295575, log path: /Users/jietong/.promptflow/.runs/search_grounded_chat_variant_0_20240417_143002_295575/logs.txt\n"
     ]
    },
    {
     "name": "stdout",
     "output_type": "stream",
     "text": [
      "Prompt flow service has started...\n",
      "You can view the traces from local: http://localhost:60771/v1.0/ui/traces/?#run=search_grounded_chat_variant_0_20240417_143002_295575\n",
      "2024-04-17 14:30:04 +0800   84412 execution          WARNING  Starting run without column mapping may lead to unexpected results. Please consult the following documentation for more information: https://aka.ms/pf/column-mapping\n",
      "2024-04-17 14:30:04 +0800   84412 execution.bulk     INFO     Current system's available memory is 8234.84375MB, memory consumption of current process is 214.46875MB, estimated available worker count is 8234.84375/214.46875 = 38\n",
      "2024-04-17 14:30:04 +0800   84412 execution.bulk     INFO     Set process count to 3 by taking the minimum value among the factors of {'default_worker_count': 4, 'row_count': 3, 'estimated_worker_count_based_on_memory_usage': 38}.\n",
      "2024-04-17 14:30:06 +0800   84412 execution.bulk     INFO     Process name(SpawnProcess-2)-Process id(85253)-Line number(0) start execution.\n",
      "2024-04-17 14:30:06 +0800   84412 execution.bulk     INFO     Process name(SpawnProcess-4)-Process id(85296)-Line number(2) start execution.\n",
      "2024-04-17 14:30:06 +0800   84412 execution.bulk     INFO     Process name(SpawnProcess-3)-Process id(85289)-Line number(1) start execution.\n",
      "2024-04-17 14:30:23 +0800   84412 execution.bulk     INFO     Process name(SpawnProcess-4)-Process id(85296)-Line number(2) completed.\n",
      "2024-04-17 14:30:23 +0800   84412 execution.bulk     INFO     Finished 1 / 3 lines.\n",
      "2024-04-17 14:30:23 +0800   84412 execution.bulk     INFO     Average execution time for completed lines: 17.02 seconds. Estimated time for incomplete lines: 34.04 seconds.\n",
      "2024-04-17 14:30:55 +0800   84412 execution.bulk     INFO     Process name(SpawnProcess-2)-Process id(85253)-Line number(0) completed.\n",
      "2024-04-17 14:30:55 +0800   84412 execution.bulk     INFO     Finished 2 / 3 lines.\n",
      "2024-04-17 14:30:55 +0800   84412 execution.bulk     INFO     Average execution time for completed lines: 24.54 seconds. Estimated time for incomplete lines: 24.54 seconds.\n",
      "2024-04-17 14:31:06 +0800   84412 execution.bulk     INFO     [Process Pool] [Active processes: 3 / 3]\n",
      "2024-04-17 14:31:06 +0800   84412 execution.bulk     INFO     [Lines] [Finished: 2] [Processing: 1] [Pending: 0]\n",
      "2024-04-17 14:31:06 +0800   84412 execution.bulk     INFO     Processing Lines: line 1 (Process name(SpawnProcess-3)-Process id(85289)-Line number(1)).\n",
      "2024-04-17 14:31:17 +0800   84412 execution.bulk     INFO     Process name(SpawnProcess-3)-Process id(85289)-Line number(1) completed.\n",
      "2024-04-17 14:31:17 +0800   84412 execution.bulk     INFO     Finished 3 / 3 lines.\n",
      "2024-04-17 14:31:17 +0800   84412 execution.bulk     INFO     Average execution time for completed lines: 23.7 seconds. Estimated time for incomplete lines: 0.0 seconds.\n",
      "2024-04-17 14:31:17 +0800   84412 execution.bulk     INFO     The thread monitoring the process [85296-SpawnProcess-4] will be terminated.\n",
      "2024-04-17 14:31:17 +0800   85296 execution.bulk     INFO     The process [85296] has received a terminate signal.\n",
      "2024-04-17 14:31:18 +0800   84412 execution.bulk     INFO     The thread monitoring the process [85253-SpawnProcess-2] will be terminated.\n",
      "2024-04-17 14:31:18 +0800   85253 execution.bulk     INFO     The process [85253] has received a terminate signal.\n",
      "2024-04-17 14:31:18 +0800   84412 execution.bulk     INFO     The thread monitoring the process [85289-SpawnProcess-3] will be terminated.\n",
      "2024-04-17 14:31:18 +0800   85289 execution.bulk     INFO     The process [85289] has received a terminate signal.\n",
      "2024-04-17 14:31:18 +0800   84412 execution.bulk     INFO     Process 85296 terminated.\n",
      "2024-04-17 14:31:18 +0800   84412 execution.bulk     INFO     Process 85253 terminated.\n",
      "2024-04-17 14:31:18 +0800   84412 execution.bulk     INFO     Process 85289 terminated.\n",
      "======= Run Summary =======\n",
      "\n",
      "Run name: \"search_grounded_chat_variant_0_20240417_143002_295575\"\n",
      "Run status: \"Completed\"\n",
      "Start time: \"2024-04-17 14:30:02.295443\"\n",
      "Duration: \"0:01:16.293216\"\n",
      "Output path: \"/Users/jietong/.promptflow/.runs/search_grounded_chat_variant_0_20240417_143002_295575\"\n",
      "\n"
     ]
    },
    {
     "data": {
      "text/html": [
       "<div>\n",
       "<style scoped>\n",
       "    .dataframe tbody tr th:only-of-type {\n",
       "        vertical-align: middle;\n",
       "    }\n",
       "\n",
       "    .dataframe tbody tr th {\n",
       "        vertical-align: top;\n",
       "    }\n",
       "\n",
       "    .dataframe thead th {\n",
       "        text-align: right;\n",
       "    }\n",
       "</style>\n",
       "<table border=\"1\" class=\"dataframe\">\n",
       "  <thead>\n",
       "    <tr style=\"text-align: right;\">\n",
       "      <th></th>\n",
       "      <th>inputs.question</th>\n",
       "      <th>inputs.line_number</th>\n",
       "      <th>outputs.output</th>\n",
       "    </tr>\n",
       "  </thead>\n",
       "  <tbody>\n",
       "    <tr>\n",
       "      <th>0</th>\n",
       "      <td>Who is the CEO of Inflection AI?</td>\n",
       "      <td>0</td>\n",
       "      <td>Sean White is the CEO of Inflection AI. [Sourc...</td>\n",
       "    </tr>\n",
       "    <tr>\n",
       "      <th>1</th>\n",
       "      <td>Who are the board members of OpenAI?</td>\n",
       "      <td>1</td>\n",
       "      <td>The board members of OpenAI include:\\n\\n- Dr. ...</td>\n",
       "    </tr>\n",
       "    <tr>\n",
       "      <th>2</th>\n",
       "      <td>When was Albert Einstein born?</td>\n",
       "      <td>2</td>\n",
       "      <td>Albert Einstein was born on March 14, 1879.</td>\n",
       "    </tr>\n",
       "  </tbody>\n",
       "</table>\n",
       "</div>"
      ],
      "text/plain": [
       "                        inputs.question  inputs.line_number  \\\n",
       "0      Who is the CEO of Inflection AI?                   0   \n",
       "1  Who are the board members of OpenAI?                   1   \n",
       "2        When was Albert Einstein born?                   2   \n",
       "\n",
       "                                      outputs.output  \n",
       "0  Sean White is the CEO of Inflection AI. [Sourc...  \n",
       "1  The board members of OpenAI include:\\n\\n- Dr. ...  \n",
       "2        Albert Einstein was born on March 14, 1879.  "
      ]
     },
     "execution_count": 4,
     "metadata": {},
     "output_type": "execute_result"
    }
   ],
   "source": [
    "# Run the chat flow\n",
    "data = \"./test_data.jsonl\"\n",
    "chat_run = pf.run(\"./flow.flex.yaml\", data=data, stream=True)\n",
    "\n",
    "details = pf.get_details(chat_run)\n",
    "details"
   ]
  },
  {
   "cell_type": "code",
   "execution_count": 6,
   "metadata": {},
   "outputs": [
    {
     "name": "stderr",
     "output_type": "stream",
     "text": [
      "[2024-04-17 14:31:56,921][promptflow._sdk._orchestrator.run_submitter][INFO] - Submitting run correctness_variant_0_20240417_143156_886045, log path: /Users/jietong/.promptflow/.runs/correctness_variant_0_20240417_143156_886045/logs.txt\n"
     ]
    },
    {
     "name": "stdout",
     "output_type": "stream",
     "text": [
      "Prompt flow service has started...\n",
      "You can view the traces from local: http://localhost:60771/v1.0/ui/traces/?#run=correctness_variant_0_20240417_143156_886045\n",
      "2024-04-17 14:31:56 +0800   84412 execution.bulk     INFO     Current system's available memory is 8000.1875MB, memory consumption of current process is 156.96875MB, estimated available worker count is 8000.1875/156.96875 = 50\n",
      "2024-04-17 14:31:56 +0800   84412 execution.bulk     INFO     Set process count to 3 by taking the minimum value among the factors of {'default_worker_count': 4, 'row_count': 3, 'estimated_worker_count_based_on_memory_usage': 50}.\n",
      "2024-04-17 14:31:58 +0800   84412 execution.bulk     INFO     Process name(SpawnProcess-6)-Process id(88271)-Line number(0) start execution.\n",
      "2024-04-17 14:31:58 +0800   84412 execution.bulk     INFO     Process name(SpawnProcess-7)-Process id(88282)-Line number(1) start execution.\n",
      "2024-04-17 14:31:58 +0800   84412 execution.bulk     INFO     Process name(SpawnProcess-8)-Process id(88283)-Line number(2) start execution.\n",
      "2024-04-17 14:32:02 +0800   84412 execution.bulk     INFO     Process name(SpawnProcess-8)-Process id(88283)-Line number(2) completed.\n",
      "2024-04-17 14:32:03 +0800   84412 execution.bulk     INFO     Process name(SpawnProcess-6)-Process id(88271)-Line number(0) completed.\n",
      "2024-04-17 14:32:03 +0800   84412 execution.bulk     INFO     Finished 2 / 3 lines.\n",
      "2024-04-17 14:32:03 +0800   84412 execution.bulk     INFO     Average execution time for completed lines: 2.5 seconds. Estimated time for incomplete lines: 2.5 seconds.\n",
      "2024-04-17 14:32:03 +0800   84412 execution.bulk     INFO     Process name(SpawnProcess-7)-Process id(88282)-Line number(1) completed.\n",
      "2024-04-17 14:32:04 +0800   84412 execution.bulk     INFO     Finished 3 / 3 lines.\n",
      "2024-04-17 14:32:04 +0800   84412 execution.bulk     INFO     Average execution time for completed lines: 2.0 seconds. Estimated time for incomplete lines: 0.0 seconds.\n",
      "2024-04-17 14:32:04 +0800   84412 execution.bulk     INFO     The thread monitoring the process [88283-SpawnProcess-8] will be terminated.\n",
      "2024-04-17 14:32:04 +0800   84412 execution.bulk     INFO     The thread monitoring the process [88271-SpawnProcess-6] will be terminated.\n",
      "2024-04-17 14:32:04 +0800   88283 execution.bulk     INFO     The process [88283] has received a terminate signal.\n",
      "2024-04-17 14:32:04 +0800   88271 execution.bulk     INFO     The process [88271] has received a terminate signal.\n",
      "2024-04-17 14:32:04 +0800   84412 execution.bulk     INFO     The thread monitoring the process [88282-SpawnProcess-7] will be terminated.\n",
      "2024-04-17 14:32:04 +0800   88282 execution.bulk     INFO     The process [88282] has received a terminate signal.\n",
      "2024-04-17 14:32:04 +0800   84412 execution.bulk     INFO     Process 88271 terminated.\n",
      "2024-04-17 14:32:04 +0800   84412 execution.bulk     INFO     Process 88283 terminated.\n",
      "2024-04-17 14:32:05 +0800   84412 execution.bulk     INFO     Process 88282 terminated.\n",
      "======= Run Summary =======\n",
      "\n",
      "Run name: \"correctness_variant_0_20240417_143156_886045\"\n",
      "Run status: \"Completed\"\n",
      "Start time: \"2024-04-17 14:31:56.885876\"\n",
      "Duration: \"0:00:08.271354\"\n",
      "Output path: \"/Users/jietong/.promptflow/.runs/correctness_variant_0_20240417_143156_886045\"\n",
      "\n"
     ]
    },
    {
     "data": {
      "text/html": [
       "<div>\n",
       "<style scoped>\n",
       "    .dataframe tbody tr th:only-of-type {\n",
       "        vertical-align: middle;\n",
       "    }\n",
       "\n",
       "    .dataframe tbody tr th {\n",
       "        vertical-align: top;\n",
       "    }\n",
       "\n",
       "    .dataframe thead th {\n",
       "        text-align: right;\n",
       "    }\n",
       "</style>\n",
       "<table border=\"1\" class=\"dataframe\">\n",
       "  <thead>\n",
       "    <tr style=\"text-align: right;\">\n",
       "      <th></th>\n",
       "      <th>inputs.question</th>\n",
       "      <th>inputs.answer</th>\n",
       "      <th>inputs.groundtruth</th>\n",
       "      <th>inputs.line_number</th>\n",
       "      <th>outputs.score</th>\n",
       "    </tr>\n",
       "  </thead>\n",
       "  <tbody>\n",
       "    <tr>\n",
       "      <th>0</th>\n",
       "      <td>Who is the CEO of Inflection AI?</td>\n",
       "      <td>Sean White is the CEO of Inflection AI. [Sourc...</td>\n",
       "      <td>After Mustafa Suleyman left, Sean White became...</td>\n",
       "      <td>0</td>\n",
       "      <td>1</td>\n",
       "    </tr>\n",
       "    <tr>\n",
       "      <th>1</th>\n",
       "      <td>Who are the board members of OpenAI?</td>\n",
       "      <td>The board members of OpenAI include:\\n\\n- Dr. ...</td>\n",
       "      <td>the board members of OpenAI include: 1. Dr. Su...</td>\n",
       "      <td>1</td>\n",
       "      <td>1</td>\n",
       "    </tr>\n",
       "    <tr>\n",
       "      <th>2</th>\n",
       "      <td>When was Albert Einstein born?</td>\n",
       "      <td>Albert Einstein was born on March 14, 1879.</td>\n",
       "      <td>Albert Einstein was born on March 14, 1879.</td>\n",
       "      <td>2</td>\n",
       "      <td>1</td>\n",
       "    </tr>\n",
       "  </tbody>\n",
       "</table>\n",
       "</div>"
      ],
      "text/plain": [
       "                        inputs.question  \\\n",
       "0      Who is the CEO of Inflection AI?   \n",
       "1  Who are the board members of OpenAI?   \n",
       "2        When was Albert Einstein born?   \n",
       "\n",
       "                                       inputs.answer  \\\n",
       "0  Sean White is the CEO of Inflection AI. [Sourc...   \n",
       "1  The board members of OpenAI include:\\n\\n- Dr. ...   \n",
       "2        Albert Einstein was born on March 14, 1879.   \n",
       "\n",
       "                                  inputs.groundtruth  inputs.line_number  \\\n",
       "0  After Mustafa Suleyman left, Sean White became...                   0   \n",
       "1  the board members of OpenAI include: 1. Dr. Su...                   1   \n",
       "2        Albert Einstein was born on March 14, 1879.                   2   \n",
       "\n",
       "   outputs.score  \n",
       "0              1  \n",
       "1              1  \n",
       "2              1  "
      ]
     },
     "execution_count": 6,
     "metadata": {},
     "output_type": "execute_result"
    }
   ],
   "source": [
    "eval_correctness_run = pf.run(\"./evals/correctness/flow.flex.yaml\", data = data, run = chat_run, \n",
    "                                column_mapping= {\n",
    "                                    \"question\": \"${data.question}\", \n",
    "                                    \"answer\": \"${run.outputs.output}\", \n",
    "                                    \"groundtruth\": \"${data.ground_truth}\"},stream=True)\n",
    "\n",
    "details = pf.get_details(eval_correctness_run)\n",
    "details"
   ]
  },
  {
   "cell_type": "code",
   "execution_count": 7,
   "metadata": {},
   "outputs": [
    {
     "name": "stdout",
     "output_type": "stream",
     "text": [
      "The HTML file is generated at '/private/var/folders/29/wjc6hwyx2y7c4gns7yn6gqlc0000gn/T/pf-visualize-detail-gkl4hm85.html'.\n",
      "Trying to view the result in a web browser...\n",
      "Successfully visualized from the web browser.\n"
     ]
    }
   ],
   "source": [
    "pf.visualize([chat_run, eval_correctness_run])"
   ]
  }
 ],
 "metadata": {
  "kernelspec": {
   "display_name": "llm",
   "language": "python",
   "name": "python3"
  },
  "language_info": {
   "codemirror_mode": {
    "name": "ipython",
    "version": 3
   },
   "file_extension": ".py",
   "mimetype": "text/x-python",
   "name": "python",
   "nbconvert_exporter": "python",
   "pygments_lexer": "ipython3",
   "version": "3.11.8"
  }
 },
 "nbformat": 4,
 "nbformat_minor": 2
}
